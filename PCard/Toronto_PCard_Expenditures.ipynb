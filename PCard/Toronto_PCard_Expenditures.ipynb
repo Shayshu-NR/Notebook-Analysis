{
  "nbformat": 4,
  "nbformat_minor": 0,
  "metadata": {
    "colab": {
      "provenance": [],
      "authorship_tag": "ABX9TyNp+0pLoqiWiuDG3Kuu+Gzv",
      "include_colab_link": true
    },
    "kernelspec": {
      "name": "python3",
      "display_name": "Python 3"
    },
    "language_info": {
      "name": "python"
    }
  },
  "cells": [
    {
      "cell_type": "markdown",
      "metadata": {
        "id": "view-in-github",
        "colab_type": "text"
      },
      "source": [
        "<a href=\"https://colab.research.google.com/github/Shayshu-NR/Notebook-Analysis/blob/main/PCard/Toronto_PCard_Expenditures.ipynb\" target=\"_parent\"><img src=\"https://colab.research.google.com/assets/colab-badge.svg\" alt=\"Open In Colab\"/></a>"
      ]
    },
    {
      "cell_type": "markdown",
      "source": [
        "The below notebook looks into the expenditure of different municipal services in Toronto.\n",
        "\n",
        "The main point of this is to view discrepancies, as well as see trends and where spending is allocated."
      ],
      "metadata": {
        "id": "3mo8dGLQH1ty"
      }
    },
    {
      "cell_type": "markdown",
      "source": [
        "#  Data collection"
      ],
      "metadata": {
        "id": "lF3HvIBkjFxS"
      }
    },
    {
      "cell_type": "code",
      "execution_count": 1,
      "metadata": {
        "id": "gcciFSy6jAdS"
      },
      "outputs": [],
      "source": [
        "import requests\n",
        "import zipfile\n",
        "\n",
        "\n",
        "# Toronto Open Data is stored in a CKAN instance. It's APIs are documented here:\n",
        "# https://docs.ckan.org/en/latest/api/\n",
        "\n",
        "# To hit our API, you'll be making requests to:\n",
        "base_url = \"https://ckan0.cf.opendata.inter.prod-toronto.ca\"\n",
        "\n",
        "# Datasets are called \"packages\". Each package can contain many \"resources\"\n",
        "# To retrieve the metadata for this package and its resources, use the package name in this page's URL:\n",
        "url = base_url + \"/api/3/action/package_show\"\n",
        "params = { \"id\": \"pcard-expenditures\"}\n",
        "package = requests.get(url, params = params).json()\n",
        "\n",
        "# To get resource data:\n",
        "for idx, resource in enumerate(package[\"result\"][\"resources\"]):\n",
        "\n",
        "       # To get metadata for non datastore_active resources:\n",
        "       if not resource[\"datastore_active\"]:\n",
        "          url = base_url + \"/api/3/action/resource_show?id=\" + resource[\"id\"]\n",
        "          resource_metadata = requests.get(url).json()\n",
        "          # From here, you can use the \"url\" attribute to download this file\n",
        "\n",
        "          if resource_metadata[\"result\"][\"format\"] == 'ZIP':\n",
        "            response = requests.get(resource_metadata[\"result\"][\"url\"])\n",
        "            file_path = str(idx) + \"_\" + resource_metadata[\"result\"][\"name\"] + \".zip\"\n",
        "\n",
        "            # Save zip and unzip\n",
        "            with open(file_path, 'wb') as file:\n",
        "              file.write(response.content)\n",
        "            with zipfile.ZipFile(file_path, 'r') as zip_ref:\n",
        "              zip_ref.extractall(\"./\")\n"
      ]
    },
    {
      "cell_type": "markdown",
      "source": [
        "# Data loading"
      ],
      "metadata": {
        "id": "3nQQRASQlXUe"
      }
    },
    {
      "cell_type": "code",
      "source": [
        "file_path = \"./expenditures/pcard-expenses/expenditures/\"\n",
        "from os import listdir\n",
        "from os.path import isfile, join\n",
        "expenditure_files = [f for f in listdir(file_path) if isfile(join(file_path, f))]"
      ],
      "metadata": {
        "id": "swC-QgrWkv0S"
      },
      "execution_count": 2,
      "outputs": []
    },
    {
      "cell_type": "code",
      "source": [
        "import numpy as np\n",
        "import pandas as pd\n",
        "\n",
        "df = pd.concat(pd.read_excel(file_path + f) for f in expenditure_files)"
      ],
      "metadata": {
        "colab": {
          "base_uri": "https://localhost:8080/"
        },
        "id": "Sxuc9_Edl5iC",
        "outputId": "124079c1-f80e-40ff-dbdb-27179282586a"
      },
      "execution_count": 10,
      "outputs": [
        {
          "output_type": "stream",
          "name": "stderr",
          "text": [
            "/usr/local/lib/python3.10/dist-packages/openpyxl/worksheet/header_footer.py:48: UserWarning: Cannot parse header or footer so it will be ignored\n",
            "  warn(\"\"\"Cannot parse header or footer so it will be ignored\"\"\")\n",
            "/usr/local/lib/python3.10/dist-packages/openpyxl/worksheet/header_footer.py:48: UserWarning: Cannot parse header or footer so it will be ignored\n",
            "  warn(\"\"\"Cannot parse header or footer so it will be ignored\"\"\")\n",
            "/usr/local/lib/python3.10/dist-packages/openpyxl/worksheet/header_footer.py:48: UserWarning: Cannot parse header or footer so it will be ignored\n",
            "  warn(\"\"\"Cannot parse header or footer so it will be ignored\"\"\")\n",
            "/usr/local/lib/python3.10/dist-packages/openpyxl/worksheet/header_footer.py:48: UserWarning: Cannot parse header or footer so it will be ignored\n",
            "  warn(\"\"\"Cannot parse header or footer so it will be ignored\"\"\")\n",
            "/usr/local/lib/python3.10/dist-packages/openpyxl/worksheet/header_footer.py:48: UserWarning: Cannot parse header or footer so it will be ignored\n",
            "  warn(\"\"\"Cannot parse header or footer so it will be ignored\"\"\")\n",
            "/usr/local/lib/python3.10/dist-packages/openpyxl/worksheet/header_footer.py:48: UserWarning: Cannot parse header or footer so it will be ignored\n",
            "  warn(\"\"\"Cannot parse header or footer so it will be ignored\"\"\")\n",
            "/usr/local/lib/python3.10/dist-packages/openpyxl/worksheet/header_footer.py:48: UserWarning: Cannot parse header or footer so it will be ignored\n",
            "  warn(\"\"\"Cannot parse header or footer so it will be ignored\"\"\")\n",
            "/usr/local/lib/python3.10/dist-packages/openpyxl/worksheet/header_footer.py:48: UserWarning: Cannot parse header or footer so it will be ignored\n",
            "  warn(\"\"\"Cannot parse header or footer so it will be ignored\"\"\")\n",
            "/usr/local/lib/python3.10/dist-packages/openpyxl/worksheet/header_footer.py:48: UserWarning: Cannot parse header or footer so it will be ignored\n",
            "  warn(\"\"\"Cannot parse header or footer so it will be ignored\"\"\")\n",
            "/usr/local/lib/python3.10/dist-packages/openpyxl/worksheet/header_footer.py:48: UserWarning: Cannot parse header or footer so it will be ignored\n",
            "  warn(\"\"\"Cannot parse header or footer so it will be ignored\"\"\")\n",
            "/usr/local/lib/python3.10/dist-packages/openpyxl/worksheet/header_footer.py:48: UserWarning: Cannot parse header or footer so it will be ignored\n",
            "  warn(\"\"\"Cannot parse header or footer so it will be ignored\"\"\")\n",
            "/usr/local/lib/python3.10/dist-packages/openpyxl/worksheet/header_footer.py:48: UserWarning: Cannot parse header or footer so it will be ignored\n",
            "  warn(\"\"\"Cannot parse header or footer so it will be ignored\"\"\")\n",
            "/usr/local/lib/python3.10/dist-packages/openpyxl/worksheet/header_footer.py:48: UserWarning: Cannot parse header or footer so it will be ignored\n",
            "  warn(\"\"\"Cannot parse header or footer so it will be ignored\"\"\")\n",
            "/usr/local/lib/python3.10/dist-packages/openpyxl/worksheet/header_footer.py:48: UserWarning: Cannot parse header or footer so it will be ignored\n",
            "  warn(\"\"\"Cannot parse header or footer so it will be ignored\"\"\")\n",
            "/usr/local/lib/python3.10/dist-packages/openpyxl/worksheet/header_footer.py:48: UserWarning: Cannot parse header or footer so it will be ignored\n",
            "  warn(\"\"\"Cannot parse header or footer so it will be ignored\"\"\")\n",
            "/usr/local/lib/python3.10/dist-packages/openpyxl/worksheet/header_footer.py:48: UserWarning: Cannot parse header or footer so it will be ignored\n",
            "  warn(\"\"\"Cannot parse header or footer so it will be ignored\"\"\")\n",
            "/usr/local/lib/python3.10/dist-packages/openpyxl/worksheet/header_footer.py:48: UserWarning: Cannot parse header or footer so it will be ignored\n",
            "  warn(\"\"\"Cannot parse header or footer so it will be ignored\"\"\")\n",
            "/usr/local/lib/python3.10/dist-packages/openpyxl/worksheet/header_footer.py:48: UserWarning: Cannot parse header or footer so it will be ignored\n",
            "  warn(\"\"\"Cannot parse header or footer so it will be ignored\"\"\")\n",
            "/usr/local/lib/python3.10/dist-packages/openpyxl/worksheet/header_footer.py:48: UserWarning: Cannot parse header or footer so it will be ignored\n",
            "  warn(\"\"\"Cannot parse header or footer so it will be ignored\"\"\")\n",
            "/usr/local/lib/python3.10/dist-packages/openpyxl/worksheet/header_footer.py:48: UserWarning: Cannot parse header or footer so it will be ignored\n",
            "  warn(\"\"\"Cannot parse header or footer so it will be ignored\"\"\")\n",
            "/usr/local/lib/python3.10/dist-packages/openpyxl/worksheet/header_footer.py:48: UserWarning: Cannot parse header or footer so it will be ignored\n",
            "  warn(\"\"\"Cannot parse header or footer so it will be ignored\"\"\")\n",
            "/usr/local/lib/python3.10/dist-packages/openpyxl/worksheet/header_footer.py:48: UserWarning: Cannot parse header or footer so it will be ignored\n",
            "  warn(\"\"\"Cannot parse header or footer so it will be ignored\"\"\")\n",
            "/usr/local/lib/python3.10/dist-packages/openpyxl/worksheet/header_footer.py:48: UserWarning: Cannot parse header or footer so it will be ignored\n",
            "  warn(\"\"\"Cannot parse header or footer so it will be ignored\"\"\")\n"
          ]
        }
      ]
    },
    {
      "cell_type": "code",
      "source": [
        "# Drop empty rows which are used as sums of previous expenses\n",
        "df_clean = df.dropna(subset='Division')\n",
        "df_clean.head()"
      ],
      "metadata": {
        "colab": {
          "base_uri": "https://localhost:8080/",
          "height": 185
        },
        "id": "XyJOk3EJHISB",
        "outputId": "798a4883-bfbd-4ab7-d943-f79f0bf38326"
      },
      "execution_count": 9,
      "outputs": [
        {
          "output_type": "execute_result",
          "data": {
            "text/plain": [
              "Empty DataFrame\n",
              "Columns: [Division , Batch-Transaction ID, Transaction Date, Card Posting Dt, Merchant Name, Transaction Amt., Trx.Currency, Original Amount, Original Currency, G/L Account, Exp Type Desc, Cost Center / WBS Element / Order, Cost Center / WBS Element / Order Description, Merchant Type, Merchant Type Description, Purpose, Batch Transaction ID, Trx Currency, G/L Account Description, Division, Cost Centre / WBS Element / Order, Cost Centre / WBS Element / Order Description, Transaction Currency, Cost Centre / WBS Element, Cost Centre / WBS Element Description, Trx. Currency, Cost Center / WBLS Element / Order Description, Expense Type, Funds Center, Cost Desc, Cost Centre / WBS Element / Order No, Cost Centre / WBS Element / Order No. Description, Cost Centre /WBS Element / Order, Cost Centre /WBS Element / Order Description, Long Text, Cost Centre/ \n",
              "WBS Element, Cost Centre/WBS Element Description, Merchant type description, G/L Account Decription, Cost Centre /WBS Element, Cost Centre /WBS Element Description, G/L Account Description , Cost Centre/WBS Element, G/L Expense Description, Cost Centre/ WBS Element / Order, Cost Centre/ WBS Element / Order Description, G/L Account Discription, Cost Centre/WBS\n",
              "Element, Cost Centre / WBS Element / Order #, Cost Centre / WBS Element / Order # Description, Cost Centre / WBS Element / Order , GL Account Description, Card Posting Date, Transaction Amount, Merchant Type (MCC), Cost Centre/WBS Element Discriprion, Cost Centre / WBS Element / Work Order Number, Cost Centre/WBS Element/Work Order Number Description, Cost Centre /  WBS Element, Cost Centre /  WBS Element Description, Cost Centre / WBS Element Descrption, Cost Centre / WBS Element /Order Description, Cost Centre / WBS Element / Order No., Tr Currency,  G/L Account Description, Cost Centre / WBS Elelment, Cost Centre / WBS Elelment Description, Original Currency.1, Cost Centre/\n",
              "WBS Element, Cost Centre/ WBS Element Descrption, Merchant\n",
              " Type, Cost Centre / WBS Element , Cost Centre/WBS Element Description , Divison, Cost Centre / WBS Element / Order # Decription, Cost Center / WBS Element / Order #, Cost Center / WBS Element / Order # Description, Cost Centre /  WBS Element / Order No., Cost Centre /  WBS Element / Order No. Decription, Cost Centre / WBS element / Order, Cost Centre / WBS element / Order Description, Transaction\n",
              " Date, Original\n",
              " Amount, Original\n",
              " Currency, Cost Centre / WBS\n",
              " Element, Unnamed: 16, Unnamed: 17]\n",
              "Index: []\n",
              "\n",
              "[0 rows x 87 columns]"
            ],
            "text/html": [
              "\n",
              "  <div id=\"df-42bcbb07-2ff2-4c9c-b478-bc913f4dc54c\" class=\"colab-df-container\">\n",
              "    <div>\n",
              "<style scoped>\n",
              "    .dataframe tbody tr th:only-of-type {\n",
              "        vertical-align: middle;\n",
              "    }\n",
              "\n",
              "    .dataframe tbody tr th {\n",
              "        vertical-align: top;\n",
              "    }\n",
              "\n",
              "    .dataframe thead th {\n",
              "        text-align: right;\n",
              "    }\n",
              "</style>\n",
              "<table border=\"1\" class=\"dataframe\">\n",
              "  <thead>\n",
              "    <tr style=\"text-align: right;\">\n",
              "      <th></th>\n",
              "      <th>Division</th>\n",
              "      <th>Batch-Transaction ID</th>\n",
              "      <th>Transaction Date</th>\n",
              "      <th>Card Posting Dt</th>\n",
              "      <th>Merchant Name</th>\n",
              "      <th>Transaction Amt.</th>\n",
              "      <th>Trx.Currency</th>\n",
              "      <th>Original Amount</th>\n",
              "      <th>Original Currency</th>\n",
              "      <th>G/L Account</th>\n",
              "      <th>...</th>\n",
              "      <th>Cost Centre /  WBS Element / Order No.</th>\n",
              "      <th>Cost Centre /  WBS Element / Order No. Decription</th>\n",
              "      <th>Cost Centre / WBS element / Order</th>\n",
              "      <th>Cost Centre / WBS element / Order Description</th>\n",
              "      <th>Transaction\\n Date</th>\n",
              "      <th>Original\\n Amount</th>\n",
              "      <th>Original\\n Currency</th>\n",
              "      <th>Cost Centre / WBS\\n Element</th>\n",
              "      <th>Unnamed: 16</th>\n",
              "      <th>Unnamed: 17</th>\n",
              "    </tr>\n",
              "  </thead>\n",
              "  <tbody>\n",
              "  </tbody>\n",
              "</table>\n",
              "<p>0 rows × 87 columns</p>\n",
              "</div>\n",
              "    <div class=\"colab-df-buttons\">\n",
              "\n",
              "  <div class=\"colab-df-container\">\n",
              "    <button class=\"colab-df-convert\" onclick=\"convertToInteractive('df-42bcbb07-2ff2-4c9c-b478-bc913f4dc54c')\"\n",
              "            title=\"Convert this dataframe to an interactive table.\"\n",
              "            style=\"display:none;\">\n",
              "\n",
              "  <svg xmlns=\"http://www.w3.org/2000/svg\" height=\"24px\" viewBox=\"0 -960 960 960\">\n",
              "    <path d=\"M120-120v-720h720v720H120Zm60-500h600v-160H180v160Zm220 220h160v-160H400v160Zm0 220h160v-160H400v160ZM180-400h160v-160H180v160Zm440 0h160v-160H620v160ZM180-180h160v-160H180v160Zm440 0h160v-160H620v160Z\"/>\n",
              "  </svg>\n",
              "    </button>\n",
              "\n",
              "  <style>\n",
              "    .colab-df-container {\n",
              "      display:flex;\n",
              "      gap: 12px;\n",
              "    }\n",
              "\n",
              "    .colab-df-convert {\n",
              "      background-color: #E8F0FE;\n",
              "      border: none;\n",
              "      border-radius: 50%;\n",
              "      cursor: pointer;\n",
              "      display: none;\n",
              "      fill: #1967D2;\n",
              "      height: 32px;\n",
              "      padding: 0 0 0 0;\n",
              "      width: 32px;\n",
              "    }\n",
              "\n",
              "    .colab-df-convert:hover {\n",
              "      background-color: #E2EBFA;\n",
              "      box-shadow: 0px 1px 2px rgba(60, 64, 67, 0.3), 0px 1px 3px 1px rgba(60, 64, 67, 0.15);\n",
              "      fill: #174EA6;\n",
              "    }\n",
              "\n",
              "    .colab-df-buttons div {\n",
              "      margin-bottom: 4px;\n",
              "    }\n",
              "\n",
              "    [theme=dark] .colab-df-convert {\n",
              "      background-color: #3B4455;\n",
              "      fill: #D2E3FC;\n",
              "    }\n",
              "\n",
              "    [theme=dark] .colab-df-convert:hover {\n",
              "      background-color: #434B5C;\n",
              "      box-shadow: 0px 1px 3px 1px rgba(0, 0, 0, 0.15);\n",
              "      filter: drop-shadow(0px 1px 2px rgba(0, 0, 0, 0.3));\n",
              "      fill: #FFFFFF;\n",
              "    }\n",
              "  </style>\n",
              "\n",
              "    <script>\n",
              "      const buttonEl =\n",
              "        document.querySelector('#df-42bcbb07-2ff2-4c9c-b478-bc913f4dc54c button.colab-df-convert');\n",
              "      buttonEl.style.display =\n",
              "        google.colab.kernel.accessAllowed ? 'block' : 'none';\n",
              "\n",
              "      async function convertToInteractive(key) {\n",
              "        const element = document.querySelector('#df-42bcbb07-2ff2-4c9c-b478-bc913f4dc54c');\n",
              "        const dataTable =\n",
              "          await google.colab.kernel.invokeFunction('convertToInteractive',\n",
              "                                                    [key], {});\n",
              "        if (!dataTable) return;\n",
              "\n",
              "        const docLinkHtml = 'Like what you see? Visit the ' +\n",
              "          '<a target=\"_blank\" href=https://colab.research.google.com/notebooks/data_table.ipynb>data table notebook</a>'\n",
              "          + ' to learn more about interactive tables.';\n",
              "        element.innerHTML = '';\n",
              "        dataTable['output_type'] = 'display_data';\n",
              "        await google.colab.output.renderOutput(dataTable, element);\n",
              "        const docLink = document.createElement('div');\n",
              "        docLink.innerHTML = docLinkHtml;\n",
              "        element.appendChild(docLink);\n",
              "      }\n",
              "    </script>\n",
              "  </div>\n",
              "\n",
              "\n",
              "    </div>\n",
              "  </div>\n"
            ],
            "application/vnd.google.colaboratory.intrinsic+json": {
              "type": "dataframe",
              "variable_name": "df"
            }
          },
          "metadata": {},
          "execution_count": 9
        }
      ]
    }
  ]
}